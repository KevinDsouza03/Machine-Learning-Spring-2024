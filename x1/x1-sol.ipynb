{
 "cells": [
  {
   "cell_type": "code",
   "execution_count": 2,
   "metadata": {},
   "outputs": [],
   "source": [
    "import pandas as pd\n",
    "import numpy as np\n",
    "# 2. Write the following codes using pandas:\n",
    "# (a) Create a DateFrame df\n",
    "# +-------+------+------+------+------+------+---+\n",
    "# | | AZ | PT | VW | KK | PQ | C |\n",
    "# +-------+------+------+------+------+------+---+\n",
    "# | r5303 | 0.58 | 0.33 | 0.05 | 0.34 | 0.04 | 1 |\n",
    "# | r6578 | 0.68 | 0.59 | 0.73 | 0.87 | 0.32 | 1 |\n",
    "# | r7750 | 0.75 | 0.74 | 0.56 | 0.06 | 0.86 | 1 |\n",
    "# | r5481 | 0.55 | 0.47 | 0.85 | 0.12 | 0.03 | 0 |\n",
    "# +-------+------+------+------+------+------+---+\n",
    "# (b) Print the number of rows of df\n",
    "# (c) Count the number of rows with each label of column C\n",
    "# (d) Select and order top 2 entries of column PT\n",
    "# (e) Select a subset of df as follows:\n",
    "# +-------+------+------+------+\n",
    "# | | PT | VW | KK |\n",
    "# +-------+------+------+------+\n",
    "# | r5303 | 0.33 | 0.05 | 0.34 |\n",
    "# | r7750 | 0.74 | 0.56 | 0.06 |\n",
    "# +-------+------+------+------+\n",
    "# (f) Print the maximum value in each column except the last column C"
   ]
  },
  {
   "cell_type": "code",
   "execution_count": 4,
   "metadata": {},
   "outputs": [],
   "source": [
    "df = pd.DataFrame(\n",
    "{\"AZ\" : [0.58,0.68,0.75,0.55],\n",
    " \"PT\" : [0.33,0.59,0.74,0.47],\n",
    " \"VW\" : [0.05,0.73,0.56,0.85],\n",
    " \"KK\" : [0.34,0.87,0.06,0.12],\n",
    " \"PQ\" : [0.04,0.32,0.86,0.03],\n",
    " \"C\" : [1,1,1,0]},\n",
    "index = [\"r5303\",\"r6578\",\"r7750\",\"r5481\"]\n",
    ")"
   ]
  },
  {
   "cell_type": "code",
   "execution_count": 5,
   "metadata": {},
   "outputs": [
    {
     "data": {
      "text/html": [
       "<div>\n",
       "<style scoped>\n",
       "    .dataframe tbody tr th:only-of-type {\n",
       "        vertical-align: middle;\n",
       "    }\n",
       "\n",
       "    .dataframe tbody tr th {\n",
       "        vertical-align: top;\n",
       "    }\n",
       "\n",
       "    .dataframe thead th {\n",
       "        text-align: right;\n",
       "    }\n",
       "</style>\n",
       "<table border=\"1\" class=\"dataframe\">\n",
       "  <thead>\n",
       "    <tr style=\"text-align: right;\">\n",
       "      <th></th>\n",
       "      <th>AZ</th>\n",
       "      <th>PT</th>\n",
       "      <th>VW</th>\n",
       "      <th>KK</th>\n",
       "      <th>PQ</th>\n",
       "      <th>C</th>\n",
       "    </tr>\n",
       "  </thead>\n",
       "  <tbody>\n",
       "    <tr>\n",
       "      <th>r5303</th>\n",
       "      <td>0.58</td>\n",
       "      <td>0.33</td>\n",
       "      <td>0.05</td>\n",
       "      <td>0.34</td>\n",
       "      <td>0.04</td>\n",
       "      <td>1</td>\n",
       "    </tr>\n",
       "    <tr>\n",
       "      <th>r6578</th>\n",
       "      <td>0.68</td>\n",
       "      <td>0.59</td>\n",
       "      <td>0.73</td>\n",
       "      <td>0.87</td>\n",
       "      <td>0.32</td>\n",
       "      <td>1</td>\n",
       "    </tr>\n",
       "    <tr>\n",
       "      <th>r7750</th>\n",
       "      <td>0.75</td>\n",
       "      <td>0.74</td>\n",
       "      <td>0.56</td>\n",
       "      <td>0.06</td>\n",
       "      <td>0.86</td>\n",
       "      <td>1</td>\n",
       "    </tr>\n",
       "    <tr>\n",
       "      <th>r5481</th>\n",
       "      <td>0.55</td>\n",
       "      <td>0.47</td>\n",
       "      <td>0.85</td>\n",
       "      <td>0.12</td>\n",
       "      <td>0.03</td>\n",
       "      <td>0</td>\n",
       "    </tr>\n",
       "  </tbody>\n",
       "</table>\n",
       "</div>"
      ],
      "text/plain": [
       "         AZ    PT    VW    KK    PQ  C\n",
       "r5303  0.58  0.33  0.05  0.34  0.04  1\n",
       "r6578  0.68  0.59  0.73  0.87  0.32  1\n",
       "r7750  0.75  0.74  0.56  0.06  0.86  1\n",
       "r5481  0.55  0.47  0.85  0.12  0.03  0"
      ]
     },
     "execution_count": 5,
     "metadata": {},
     "output_type": "execute_result"
    }
   ],
   "source": [
    "df.head() #a"
   ]
  },
  {
   "cell_type": "code",
   "execution_count": 6,
   "metadata": {},
   "outputs": [
    {
     "name": "stdout",
     "output_type": "stream",
     "text": [
      "4\n"
     ]
    }
   ],
   "source": [
    "print(len(df)) #b"
   ]
  },
  {
   "cell_type": "code",
   "execution_count": 7,
   "metadata": {},
   "outputs": [
    {
     "name": "stdout",
     "output_type": "stream",
     "text": [
      "C\n",
      "1    3\n",
      "0    1\n",
      "Name: count, dtype: int64\n"
     ]
    }
   ],
   "source": [
    "print(df.value_counts(\"C\")) #c"
   ]
  },
  {
   "cell_type": "code",
   "execution_count": 8,
   "metadata": {},
   "outputs": [
    {
     "name": "stdout",
     "output_type": "stream",
     "text": [
      "         AZ    PT    VW    KK    PQ  C\n",
      "r7750  0.75  0.74  0.56  0.06  0.86  1\n",
      "r6578  0.68  0.59  0.73  0.87  0.32  1\n"
     ]
    }
   ],
   "source": [
    "print(df.nlargest(2,\"PT\")) #d  "
   ]
  },
  {
   "cell_type": "code",
   "execution_count": 18,
   "metadata": {},
   "outputs": [
    {
     "name": "stdout",
     "output_type": "stream",
     "text": [
      "         AZ    PT    VW    KK    PQ  C\n",
      "r7750  0.75  0.74  0.56  0.06  0.86  1\n",
      "r6578  0.68  0.59  0.73  0.87  0.32  1\n"
     ]
    }
   ],
   "source": [
    "#worse way to do d\n",
    "print(df.sort_values(\"PT\",ascending=False).iloc[:2])\n",
    "#iloc = index location. remember"
   ]
  },
  {
   "cell_type": "code",
   "execution_count": 26,
   "metadata": {},
   "outputs": [
    {
     "name": "stdout",
     "output_type": "stream",
     "text": [
      "         PT    VW    KK\n",
      "r5303  0.33  0.05  0.34\n",
      "r7750  0.74  0.56  0.06\n"
     ]
    }
   ],
   "source": [
    "print(df.loc[[\"r5303\",\"r7750\"], [\"PT\",\"VW\",\"KK\"]]) #e"
   ]
  },
  {
   "cell_type": "code",
   "execution_count": 34,
   "metadata": {},
   "outputs": [
    {
     "ename": "SyntaxError",
     "evalue": "invalid syntax (3169174437.py, line 1)",
     "output_type": "error",
     "traceback": [
      "\u001b[1;36m  Cell \u001b[1;32mIn[34], line 1\u001b[1;36m\u001b[0m\n\u001b[1;33m    print(df.iloc[[0:3:2], [\"PT\",\"VW\",\"KK\"]]) #e again\u001b[0m\n\u001b[1;37m                    ^\u001b[0m\n\u001b[1;31mSyntaxError\u001b[0m\u001b[1;31m:\u001b[0m invalid syntax\n"
     ]
    }
   ],
   "source": [
    "print(df.iloc[[0:3:2], [\"PT\",\"VW\",\"KK\"]]) #e again. need to fix"
   ]
  },
  {
   "cell_type": "code",
   "execution_count": 35,
   "metadata": {},
   "outputs": [
    {
     "name": "stdout",
     "output_type": "stream",
     "text": [
      "AZ    0.75\n",
      "PT    0.74\n",
      "VW    0.85\n",
      "KK    0.87\n",
      "PQ    0.86\n",
      "dtype: float64\n"
     ]
    }
   ],
   "source": [
    "#f\n",
    "print(df.iloc[:,:-1].max())"
   ]
  },
  {
   "cell_type": "code",
   "execution_count": 37,
   "metadata": {},
   "outputs": [
    {
     "name": "stdout",
     "output_type": "stream",
     "text": [
      "AZ    0.75\n",
      "PT    0.74\n",
      "VW    0.85\n",
      "KK    0.87\n",
      "PQ    0.86\n",
      "dtype: float64\n"
     ]
    }
   ],
   "source": [
    "print(df.loc[:, \"AZ\":\"PQ\"].max())#f"
   ]
  },
  {
   "cell_type": "code",
   "execution_count": 38,
   "metadata": {},
   "outputs": [
    {
     "name": "stdout",
     "output_type": "stream",
     "text": [
      "AZ    0.75\n",
      "PT    0.74\n",
      "VW    0.85\n",
      "KK    0.87\n",
      "PQ    0.86\n",
      "dtype: float64\n"
     ]
    }
   ],
   "source": [
    "print(df.drop(columns=\"C\").max())#f"
   ]
  },
  {
   "cell_type": "code",
   "execution_count": null,
   "metadata": {},
   "outputs": [],
   "source": []
  }
 ],
 "metadata": {
  "kernelspec": {
   "display_name": "base",
   "language": "python",
   "name": "python3"
  },
  "language_info": {
   "codemirror_mode": {
    "name": "ipython",
    "version": 3
   },
   "file_extension": ".py",
   "mimetype": "text/x-python",
   "name": "python",
   "nbconvert_exporter": "python",
   "pygments_lexer": "ipython3",
   "version": "3.11.4"
  }
 },
 "nbformat": 4,
 "nbformat_minor": 2
}
