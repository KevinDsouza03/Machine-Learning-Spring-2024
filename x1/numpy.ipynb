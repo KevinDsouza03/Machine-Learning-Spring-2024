{
 "cells": [
  {
   "cell_type": "code",
   "execution_count": 1,
   "metadata": {},
   "outputs": [],
   "source": [
    "import pandas as pd\n",
    "import numpy as np"
   ]
  },
  {
   "cell_type": "code",
   "execution_count": 20,
   "metadata": {},
   "outputs": [
    {
     "name": "stdout",
     "output_type": "stream",
     "text": [
      "a [[1 2 3]\n",
      " [4 5 6]]\n",
      "b [[[0. 0. 0. 0.]\n",
      "  [0. 0. 0. 0.]\n",
      "  [0. 0. 0. 0.]]\n",
      "\n",
      " [[0. 0. 0. 0.]\n",
      "  [0. 0. 0. 0.]\n",
      "  [0. 0. 0. 0.]]]\n",
      "c [[[1. 1. 1. 1.]\n",
      "  [1. 1. 1. 1.]\n",
      "  [1. 1. 1. 1.]]\n",
      "\n",
      " [[1. 1. 1. 1.]\n",
      "  [1. 1. 1. 1.]\n",
      "  [1. 1. 1. 1.]]]\n",
      "d [ 7  9 11] \n",
      "e [0.   0.25 0.5  0.75 1.   1.25 1.5  1.75 2.  ]\n"
     ]
    }
   ],
   "source": [
    "a = np.array([[1,2,3],[4,5,6]])\n",
    "print(f\"a {a}\")\n",
    "b = np.zeros([2,3,4])\n",
    "print(f\"b {b}\")\n",
    "c = np.ones([2,3,4])\n",
    "print(f\"c {c}\")\n",
    "d = np.arange(7,12,2)\n",
    "print(f\"d {d} \")\n",
    "e = np.linspace(0,2,9, endpoint=True)\n",
    "print(f\"e {e}\")"
   ]
  },
  {
   "cell_type": "code",
   "execution_count": 14,
   "metadata": {},
   "outputs": [],
   "source": [
    "# linspace, give me inbetween numbers in inclusive #,#, and # numbers. example: 0 to 2, give me 9 numbers"
   ]
  },
  {
   "cell_type": "code",
   "execution_count": 35,
   "metadata": {},
   "outputs": [
    {
     "name": "stdout",
     "output_type": "stream",
     "text": [
      "[0.         0.22222222 0.44444444 0.66666667 0.88888889 1.11111111\n",
      " 1.33333333 1.55555556 1.77777778]\n"
     ]
    }
   ],
   "source": [
    "e2 = np.linspace(0,2,9,endpoint=False)\n",
    "print(e2)"
   ]
  },
  {
   "cell_type": "code",
   "execution_count": 34,
   "metadata": {},
   "outputs": [
    {
     "name": "stdout",
     "output_type": "stream",
     "text": [
      "[[[7 7 7 7]\n",
      "  [7 7 7 7]\n",
      "  [7 7 7 7]]\n",
      "\n",
      " [[7 7 7 7]\n",
      "  [7 7 7 7]\n",
      "  [7 7 7 7]]]\n"
     ]
    }
   ],
   "source": [
    "f = np.full((2,3,4),7)\n",
    "print(f)"
   ]
  },
  {
   "cell_type": "code",
   "execution_count": 33,
   "metadata": {},
   "outputs": [
    {
     "name": "stdout",
     "output_type": "stream",
     "text": [
      "[[0.55482452 0.76032857 0.300481  ]\n",
      " [0.51877799 0.79424813 0.51115086]]\n"
     ]
    }
   ],
   "source": [
    "#random\n",
    "r = np.random.random((2,3))\n",
    "print(r)"
   ]
  },
  {
   "cell_type": "code",
   "execution_count": 37,
   "metadata": {},
   "outputs": [
    {
     "name": "stdout",
     "output_type": "stream",
     "text": [
      "[[4 1 4 6 2]\n",
      " [3 4 2 2 5]\n",
      " [1 3 4 2 2]\n",
      " [1 6 5 4 1]\n",
      " [5 4 3 3 3]]\n"
     ]
    }
   ],
   "source": [
    "t = np.random.randint(1,7,[5,5])\n",
    "print(t)"
   ]
  },
  {
   "cell_type": "code",
   "execution_count": null,
   "metadata": {},
   "outputs": [],
   "source": [
    "#matrix multiplication on first test    "
   ]
  },
  {
   "cell_type": "code",
   "execution_count": 38,
   "metadata": {},
   "outputs": [
    {
     "name": "stdout",
     "output_type": "stream",
     "text": [
      "[[14 20]\n",
      " [32 47]]\n"
     ]
    }
   ],
   "source": [
    "a = np.array([[1,2,3],[4,5,6]])\n",
    "b = np.array([[1,2],[2,3],[3,4]])\n",
    "c = a @ b\n",
    "print(c)"
   ]
  },
  {
   "cell_type": "code",
   "execution_count": 39,
   "metadata": {},
   "outputs": [
    {
     "data": {
      "text/plain": [
       "array([[False, False, False],\n",
       "       [ True,  True,  True]])"
      ]
     },
     "execution_count": 39,
     "metadata": {},
     "output_type": "execute_result"
    }
   ],
   "source": [
    "a = np.array([[1,2,3],[4,5,6]])\n",
    "#i want to know if a > 3.\n",
    "a > 3"
   ]
  },
  {
   "cell_type": "code",
   "execution_count": 42,
   "metadata": {},
   "outputs": [
    {
     "name": "stdout",
     "output_type": "stream",
     "text": [
      "[[[0.91863909 0.09167878 0.40813161 0.92929082]\n",
      "  [0.86110706 0.48254751 0.096356   0.54495282]\n",
      "  [0.20508987 0.71495092 0.95921392 0.71231251]]\n",
      "\n",
      " [[0.32709217 0.23034843 0.19938243 0.46934886]\n",
      "  [0.63386989 0.31015066 0.80419202 0.36228893]\n",
      "  [0.82102399 0.63341251 0.92788686 0.23153384]]]\n",
      "-----------------\n",
      "[[0.91863909 0.71495092 0.95921392 0.92929082]\n",
      " [0.82102399 0.63341251 0.92788686 0.46934886]]\n"
     ]
    }
   ],
   "source": [
    "a = np.random.random([2,3,4])\n",
    "print(a)\n",
    "print(\"-----------------\")\n",
    "print(a.max(axis=1))"
   ]
  },
  {
   "cell_type": "code",
   "execution_count": null,
   "metadata": {},
   "outputs": [],
   "source": [
    "#numpy problems on x1"
   ]
  }
 ],
 "metadata": {
  "kernelspec": {
   "display_name": "base",
   "language": "python",
   "name": "python3"
  },
  "language_info": {
   "codemirror_mode": {
    "name": "ipython",
    "version": 3
   },
   "file_extension": ".py",
   "mimetype": "text/x-python",
   "name": "python",
   "nbconvert_exporter": "python",
   "pygments_lexer": "ipython3",
   "version": "3.11.4"
  }
 },
 "nbformat": 4,
 "nbformat_minor": 2
}
