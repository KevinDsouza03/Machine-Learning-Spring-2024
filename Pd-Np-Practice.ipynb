{
 "cells": [
  {
   "cell_type": "code",
   "execution_count": 2,
   "metadata": {},
   "outputs": [],
   "source": [
    "import pandas as pd\n",
    "import numpy  as np\n"
   ]
  },
  {
   "cell_type": "code",
   "execution_count": 3,
   "metadata": {},
   "outputs": [
    {
     "name": "stdout",
     "output_type": "stream",
     "text": [
      "    X   Y   Z\n",
      "0  78  84  86\n",
      "1  85  94  97\n",
      "2  96  89  96\n",
      "3  80  83  72\n",
      "4  86  86  83\n"
     ]
    }
   ],
   "source": [
    "dict = {'X':[78,85,96,80,86], 'Y':[84,94,89,83,86],'Z':[86,97,96,72,83]}\n",
    "df = pd.DataFrame.from_dict(dict)\n",
    "print(df)"
   ]
  },
  {
   "cell_type": "code",
   "execution_count": 4,
   "metadata": {},
   "outputs": [
    {
     "name": "stdout",
     "output_type": "stream",
     "text": [
      "    X   Y   Z\n",
      "0  78  84  86\n",
      "1  85  94  97\n",
      "2  96  89  96\n",
      "3  80  83  72\n",
      "4  86  86  83\n"
     ]
    }
   ],
   "source": [
    "#or\n",
    "df2 = pd.DataFrame({'X':[78,85,96,80,86], 'Y':[84,94,89,83,86],'Z':[86,97,96,72,83]})\n",
    "print(df2)"
   ]
  },
  {
   "cell_type": "code",
   "execution_count": 5,
   "metadata": {},
   "outputs": [],
   "source": [
    "#2\n",
    "data = {'name': ['Anastasia', 'Dima', 'Katherine', 'James', 'Emily', 'Michael', 'Matthew', 'Laura', 'Kevin', 'Jonas'],\n",
    "'score': [12.5, 9, 16.5, np.nan, 9, 20, 14.5, np.nan, 8, 19],\n",
    "'attempts': [1, 3, 2, 3, 2, 3, 1, 1, 2, 1],\n",
    "'qualify': ['yes', 'no', 'yes', 'no', 'no', 'yes', 'yes', 'no', 'no', 'yes']}"
   ]
  },
  {
   "cell_type": "code",
   "execution_count": 6,
   "metadata": {},
   "outputs": [
    {
     "name": "stdout",
     "output_type": "stream",
     "text": [
      "        name  score  attempts qualify\n",
      "a  Anastasia   12.5         1     yes\n",
      "b       Dima    9.0         3      no\n",
      "c  Katherine   16.5         2     yes\n",
      "d      James    NaN         3      no\n",
      "e      Emily    9.0         2      no\n",
      "f    Michael   20.0         3     yes\n",
      "g    Matthew   14.5         1     yes\n",
      "h      Laura    NaN         1      no\n",
      "i      Kevin    8.0         2      no\n",
      "j      Jonas   19.0         1     yes\n"
     ]
    }
   ],
   "source": [
    "labels = ['a','b','c','d','e','f','g','h','i','j']\n",
    "df = pd.DataFrame(data,index =labels)\n",
    "print(df)"
   ]
  },
  {
   "cell_type": "code",
   "execution_count": 7,
   "metadata": {},
   "outputs": [
    {
     "name": "stdout",
     "output_type": "stream",
     "text": [
      "<class 'pandas.core.frame.DataFrame'>\n",
      "Index: 10 entries, a to j\n",
      "Data columns (total 4 columns):\n",
      " #   Column    Non-Null Count  Dtype  \n",
      "---  ------    --------------  -----  \n",
      " 0   name      10 non-null     object \n",
      " 1   score     8 non-null      float64\n",
      " 2   attempts  10 non-null     int64  \n",
      " 3   qualify   10 non-null     object \n",
      "dtypes: float64(1), int64(1), object(2)\n",
      "memory usage: 400.0+ bytes\n",
      "None\n"
     ]
    }
   ],
   "source": [
    "#3\n",
    "df = pd.DataFrame(data,index=labels)\n",
    "print(df.info())"
   ]
  },
  {
   "cell_type": "code",
   "execution_count": 8,
   "metadata": {},
   "outputs": [
    {
     "name": "stdout",
     "output_type": "stream",
     "text": [
      "        name  score  attempts qualify\n",
      "a  Anastasia   12.5         1     yes\n",
      "b       Dima    9.0         3      no\n",
      "c  Katherine   16.5         2     yes\n"
     ]
    }
   ],
   "source": [
    "#4\n",
    "print(df.iloc[:3])"
   ]
  },
  {
   "cell_type": "code",
   "execution_count": 9,
   "metadata": {},
   "outputs": [
    {
     "name": "stdout",
     "output_type": "stream",
     "text": [
      "        name  score\n",
      "a  Anastasia   12.5\n",
      "b       Dima    9.0\n",
      "c  Katherine   16.5\n",
      "d      James    NaN\n",
      "e      Emily    9.0\n",
      "f    Michael   20.0\n",
      "g    Matthew   14.5\n",
      "h      Laura    NaN\n",
      "i      Kevin    8.0\n",
      "j      Jonas   19.0\n"
     ]
    }
   ],
   "source": [
    "#5\n",
    "print(df[['name','score']])"
   ]
  },
  {
   "cell_type": "code",
   "execution_count": 10,
   "metadata": {},
   "outputs": [
    {
     "name": "stdout",
     "output_type": "stream",
     "text": [
      "   score qualify\n",
      "b    9.0      no\n",
      "d    NaN      no\n",
      "f   20.0     yes\n",
      "g   14.5     yes\n"
     ]
    }
   ],
   "source": [
    "temp_df = df[['score','qualify']]\n",
    "print(temp_df.iloc[[1,3,5,6]]) #6"
   ]
  },
  {
   "cell_type": "code",
   "execution_count": 11,
   "metadata": {},
   "outputs": [
    {
     "name": "stdout",
     "output_type": "stream",
     "text": [
      "      name  score  attempts qualify\n",
      "b     Dima    9.0         3      no\n",
      "d    James    NaN         3      no\n",
      "f  Michael   20.0         3     yes\n"
     ]
    }
   ],
   "source": [
    "#7\n",
    "boolean_mask = df['attempts'] > 2\n",
    "print(df[boolean_mask])"
   ]
  },
  {
   "cell_type": "code",
   "execution_count": 12,
   "metadata": {},
   "outputs": [
    {
     "data": {
      "text/plain": [
       "(10, 4)"
      ]
     },
     "execution_count": 12,
     "metadata": {},
     "output_type": "execute_result"
    }
   ],
   "source": [
    "df.shape #8\n"
   ]
  },
  {
   "cell_type": "code",
   "execution_count": 13,
   "metadata": {},
   "outputs": [
    {
     "name": "stdout",
     "output_type": "stream",
     "text": [
      "    name  score  attempts qualify\n",
      "d  James    NaN         3      no\n",
      "h  Laura    NaN         1      no\n"
     ]
    }
   ],
   "source": [
    "#9\n",
    "exam_data  = {'name': ['Anastasia', 'Dima', 'Katherine', 'James', 'Emily', 'Michael', 'Matthew', 'Laura', 'Kevin', 'Jonas'],\n",
    "        'score': [12.5, 9, 16.5, np.nan, 9, 20, 14.5, np.nan, 8, 19],\n",
    "        'attempts': [1, 3, 2, 3, 2, 3, 1, 1, 2, 1],\n",
    "        'qualify': ['yes', 'no', 'yes', 'no', 'no', 'yes', 'yes', 'no', 'no', 'yes']}\n",
    "labels = ['a', 'b', 'c', 'd', 'e', 'f', 'g', 'h', 'i', 'j']\n",
    "\n",
    "df = pd.DataFrame(exam_data , index=labels)\n",
    "\n",
    "print(df[df['score'].isnull()])"
   ]
  },
  {
   "cell_type": "code",
   "execution_count": 14,
   "metadata": {},
   "outputs": [
    {
     "name": "stdout",
     "output_type": "stream",
     "text": [
      "        name  score  attempts qualify\n",
      "c  Katherine   16.5         2     yes\n",
      "f    Michael   20.0         3     yes\n",
      "j      Jonas   19.0         1     yes\n"
     ]
    }
   ],
   "source": [
    "#10\n",
    "\n",
    "print(df[df['score'].between(15,20)])"
   ]
  },
  {
   "cell_type": "code",
   "execution_count": 15,
   "metadata": {},
   "outputs": [
    {
     "name": "stdout",
     "output_type": "stream",
     "text": [
      "    name  score  attempts qualify\n",
      "j  Jonas   19.0         1     yes\n"
     ]
    }
   ],
   "source": [
    "print(df.query(\"score > 15 and attempts < 2\"))"
   ]
  },
  {
   "cell_type": "code",
   "execution_count": 16,
   "metadata": {},
   "outputs": [
    {
     "name": "stdout",
     "output_type": "stream",
     "text": [
      "        name  score  attempts qualify\n",
      "a  Anastasia   12.5         1     yes\n",
      "b       Dima    9.0         3      no\n",
      "c  Katherine   16.5         2     yes\n",
      "d      James   11.5         3      no\n",
      "e      Emily    9.0         2      no\n",
      "f    Michael   20.0         3     yes\n",
      "g    Matthew   14.5         1     yes\n",
      "h      Laura    NaN         1      no\n",
      "i      Kevin    8.0         2      no\n",
      "j      Jonas   19.0         1     yes\n"
     ]
    }
   ],
   "source": [
    "df.loc['d','score'] = 11.5\n",
    "print(df)\n"
   ]
  },
  {
   "cell_type": "code",
   "execution_count": 17,
   "metadata": {},
   "outputs": [],
   "source": [
    "# df.drop(columns='d', inplace=True)"
   ]
  },
  {
   "cell_type": "code",
   "execution_count": 18,
   "metadata": {},
   "outputs": [
    {
     "name": "stdout",
     "output_type": "stream",
     "text": [
      "19\n"
     ]
    }
   ],
   "source": [
    "#13\n",
    "\n",
    "print(df['attempts'].sum())"
   ]
  },
  {
   "cell_type": "code",
   "execution_count": 19,
   "metadata": {},
   "outputs": [
    {
     "name": "stdout",
     "output_type": "stream",
     "text": [
      "13.5625\n"
     ]
    }
   ],
   "source": [
    "#14\n",
    "df.loc['d','score'] = np.nan\n",
    "print(df['score'].mean())"
   ]
  },
  {
   "cell_type": "code",
   "execution_count": 20,
   "metadata": {},
   "outputs": [],
   "source": [
    "#x1\n",
    "states = ['Alabama','Alaska','Arizona','Arkansas',\n",
    "          'California','Colorado','Connecticut','Delaware',\n",
    "          'Florida','Georgia','Hawaii','Idaho',\n",
    "          'Illinois','Indiana','Iowa','Kansas']\n",
    "pops = {\n",
    "\"California\": 39237836,\n",
    "\"Texas\": 29527941,\n",
    "\"Florida\": 21781128,\n",
    "\"New York\": 19835913,\n",
    "\"Pennsylvania\": 12964056,\n",
    "\"Illinois\": 12671469,\n",
    "\"Ohio\": 11780017,\n",
    "\"Georgia\": 10799566\n",
    "}"
   ]
  },
  {
   "cell_type": "code",
   "execution_count": 21,
   "metadata": {},
   "outputs": [
    {
     "name": "stdout",
     "output_type": "stream",
     "text": [
      "16\n"
     ]
    }
   ],
   "source": [
    "print(len(states))\n",
    "#16"
   ]
  },
  {
   "cell_type": "code",
   "execution_count": 22,
   "metadata": {},
   "outputs": [
    {
     "name": "stdout",
     "output_type": "stream",
     "text": [
      "kansas\n"
     ]
    }
   ],
   "source": [
    "print(states[3][2:])"
   ]
  },
  {
   "cell_type": "code",
   "execution_count": 23,
   "metadata": {},
   "outputs": [
    {
     "name": "stdout",
     "output_type": "stream",
     "text": [
      "['Arizona', 'Colorado', 'Florida', 'Idaho']\n"
     ]
    }
   ],
   "source": [
    "print(states[2:13:3])\n",
    "#Arizona, Colorado,Florida,Idaho"
   ]
  },
  {
   "cell_type": "code",
   "execution_count": 24,
   "metadata": {},
   "outputs": [],
   "source": [
    "# print(pops[ states[-7] ]) #4 \n",
    "# print(\"New York\" in pops) #5\n",
    "# for state in states:\n",
    "#     if state in pops:\n",
    "#         print(state) #6"
   ]
  },
  {
   "cell_type": "code",
   "execution_count": 25,
   "metadata": {},
   "outputs": [
    {
     "name": "stdout",
     "output_type": "stream",
     "text": [
      "         AZ    PT    VW    KK    PQ  C\n",
      "r5303  0.58  0.33  0.05  0.34  0.04  1\n",
      "r6578  0.68  0.59  0.73  0.87  0.32  1\n",
      "r7750  0.75  0.74  0.56  0.06  0.86  1\n",
      "r5481  0.55  0.47  0.85  0.12  0.03  0\n"
     ]
    }
   ],
   "source": [
    "# 2. Write the following codes using pandas:\n",
    "# (a) Create a DateFrame df\n",
    "# +-------+------+------+------+------+------+---+\n",
    "# | | AZ | PT | VW | KK | PQ | C |\n",
    "# +-------+------+------+------+------+------+---+\n",
    "# | r5303 | 0.58 | 0.33 | 0.05 | 0.34 | 0.04 | 1 |\n",
    "# | r6578 | 0.68 | 0.59 | 0.73 | 0.87 | 0.32 | 1 |\n",
    "# | r7750 | 0.75 | 0.74 | 0.56 | 0.06 | 0.86 | 1 |\n",
    "# | r5481 | 0.55 | 0.47 | 0.85 | 0.12 | 0.03 | 0 |\n",
    "# +-------+------+------+------+------+------+---+\n",
    "# (b) Print the number of rows of df\n",
    "# (c) Count the number of rows with each label of column C\n",
    "# (d) Select and order top 2 entries of column PT\n",
    "# (e) Select a subset of df as follows:\n",
    "# +-------+------+------+------+\n",
    "# | | PT | VW | KK |\n",
    "# +-------+------+------+------+\n",
    "# | r5303 | 0.33 | 0.05 | 0.34 |\n",
    "# | r7750 | 0.74 | 0.56 | 0.06 |\n",
    "# +-------+------+------+------+\n",
    "# (f) Print the maximum value in each column except the last column C\n",
    "df = pd.DataFrame(\n",
    "    {\n",
    "        \"AZ\" : [.58,.68,.75,.55],\n",
    "        \"PT\" : [.33,.59,.74,.47],\n",
    "        \"VW\" : [.05,.73,.56,.85],\n",
    "        \"KK\" : [.34,.87,.06,.12],\n",
    "        \"PQ\" : [.04,.32,.86,.03],\n",
    "        \"C\" : [1,1,1,0]\n",
    "    },\n",
    "    index = [\"r5303\",\"r6578\",\"r7750\",\"r5481\"]\n",
    "\n",
    ")\n",
    "print(df)"
   ]
  },
  {
   "cell_type": "code",
   "execution_count": 26,
   "metadata": {},
   "outputs": [
    {
     "name": "stdout",
     "output_type": "stream",
     "text": [
      "4\n"
     ]
    }
   ],
   "source": [
    "print(len(df)) #(b) "
   ]
  },
  {
   "cell_type": "code",
   "execution_count": 27,
   "metadata": {},
   "outputs": [
    {
     "name": "stdout",
     "output_type": "stream",
     "text": [
      "C\n",
      "1    3\n",
      "0    1\n",
      "Name: count, dtype: int64\n"
     ]
    }
   ],
   "source": [
    "print(df['C'].value_counts()) #(c)"
   ]
  },
  {
   "cell_type": "code",
   "execution_count": 31,
   "metadata": {},
   "outputs": [
    {
     "name": "stdout",
     "output_type": "stream",
     "text": [
      "         AZ    PT    VW    KK    PQ  C\n",
      "r7750  0.75  0.74  0.56  0.06  0.86  1\n",
      "r6578  0.68  0.59  0.73  0.87  0.32  1\n"
     ]
    }
   ],
   "source": [
    "# print(df.nlargest(2,'PT')) #(d)\n",
    "# print(df.sort_values('PT', ascending=False)[0:2])"
   ]
  },
  {
   "cell_type": "code",
   "execution_count": 36,
   "metadata": {},
   "outputs": [
    {
     "name": "stdout",
     "output_type": "stream",
     "text": [
      "         PT    VW    KK\n",
      "r5303  0.33  0.05  0.34\n",
      "r7750  0.74  0.56  0.06\n"
     ]
    }
   ],
   "source": [
    "#(e)\n",
    "print(df.loc[['r5303','r7750'], ['PT','VW','KK']])\n"
   ]
  },
  {
   "cell_type": "code",
   "execution_count": 53,
   "metadata": {},
   "outputs": [
    {
     "name": "stdout",
     "output_type": "stream",
     "text": [
      "AZ    0.75\n",
      "PT    0.74\n",
      "VW    0.85\n",
      "KK    0.87\n",
      "PQ    0.86\n",
      "dtype: float64\n"
     ]
    }
   ],
   "source": [
    "#(f)\n",
    "print(df.drop(columns=\"C\").max())"
   ]
  },
  {
   "cell_type": "code",
   "execution_count": 54,
   "metadata": {},
   "outputs": [],
   "source": [
    "# #Numpy Section\n",
    "\n",
    "# 3. Write the following codes in NumPy:\n",
    "# (a) Create three row arrays (Do not type individual elements explicitly)\n",
    "# a = [ -3, -1, 1, 3, 5, 7, 9 ]\n",
    "# b = [ 1, 2.2, 3.4, 4.6, 5.8, 7, 8.2 ]\n",
    "# c = [ 5, 5, 5, 5, 5, 5, 5, 5 ]\n",
    "# (b) Calculate the dot product of a and b\n",
    "# (c) Use the three vectors to create a 3 x 4 matrix d , such that the first, second, and third rows consist\n",
    "# of the last four elements of the vectors a , b , and c , respectively\n",
    "# (d) Show the number of elements of d (output should be 12)\n",
    "# (e) Reshape matrix d to a 4 x 3 matrix e\n",
    "# (f) Create a 3 element array f with numbers that are the greatest elements of each columns of e"
   ]
  },
  {
   "cell_type": "code",
   "execution_count": 63,
   "metadata": {},
   "outputs": [
    {
     "name": "stdout",
     "output_type": "stream",
     "text": [
      "[-3 -1  1  3  5  7  9]\n",
      "[1.  2.2 3.4 4.6 5.8 7.  8.2]\n",
      "[5 5 5 5 5 5 5 5]\n"
     ]
    }
   ],
   "source": [
    "a = np.arange(-3,10,2)\n",
    "print(a)\n",
    "b = np.arange(1, 8.3, 1.2)\n",
    "print(b)\n",
    "c= np.full(8,5)\n",
    "print(c)"
   ]
  },
  {
   "cell_type": "code",
   "execution_count": 65,
   "metadata": {},
   "outputs": [
    {
     "name": "stdout",
     "output_type": "stream",
     "text": [
      "163.8\n"
     ]
    }
   ],
   "source": [
    "print(np.dot(a,b))"
   ]
  },
  {
   "cell_type": "code",
   "execution_count": null,
   "metadata": {},
   "outputs": [],
   "source": []
  }
 ],
 "metadata": {
  "kernelspec": {
   "display_name": "base",
   "language": "python",
   "name": "python3"
  },
  "language_info": {
   "codemirror_mode": {
    "name": "ipython",
    "version": 3
   },
   "file_extension": ".py",
   "mimetype": "text/x-python",
   "name": "python",
   "nbconvert_exporter": "python",
   "pygments_lexer": "ipython3",
   "version": "3.11.4"
  }
 },
 "nbformat": 4,
 "nbformat_minor": 2
}
